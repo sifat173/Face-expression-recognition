{
  "nbformat": 4,
  "nbformat_minor": 0,
  "metadata": {
    "colab": {
      "provenance": [],
      "authorship_tag": "ABX9TyM+fV2a+CCcIcHm9EwiMFsa",
      "include_colab_link": true
    },
    "kernelspec": {
      "name": "python3",
      "display_name": "Python 3"
    },
    "language_info": {
      "name": "python"
    },
    "accelerator": "GPU",
    "gpuClass": "standard"
  },
  "cells": [
    {
      "cell_type": "markdown",
      "metadata": {
        "id": "view-in-github",
        "colab_type": "text"
      },
      "source": [
        "<a href=\"https://colab.research.google.com/github/sifat173/Face-expression-recognition/blob/main/untitled17.ipynb\" target=\"_parent\"><img src=\"https://colab.research.google.com/assets/colab-badge.svg\" alt=\"Open In Colab\"/></a>"
      ]
    },
    {
      "cell_type": "code",
      "execution_count": null,
      "metadata": {
        "id": "9ahAF2waPCth"
      },
      "outputs": [],
      "source": [
        "# Import libraries\n",
        "import tensorflow as tf\n",
        "from tensorflow.keras.preprocessing.image import ImageDataGenerator\n",
        "from tensorflow.keras.layers import Dense, Dropout, GlobalAveragePooling2D\n",
        "from tensorflow.keras.models import Model\n",
        "from tensorflow.keras.optimizers import Adam\n",
        "import numpy as np\n",
        "import pandas as pd\n",
        "import matplotlib.pyplot as plt\n",
        "%matplotlib inline"
      ]
    },
    {
      "cell_type": "code",
      "source": [
        "from google.colab import drive\n",
        "drive.mount('/content/gdrive')"
      ],
      "metadata": {
        "colab": {
          "base_uri": "https://localhost:8080/"
        },
        "id": "iV81bgeXPHot",
        "outputId": "d9f07b3e-7c90-434e-e07c-2a6689932a9d"
      },
      "execution_count": null,
      "outputs": [
        {
          "output_type": "stream",
          "name": "stdout",
          "text": [
            "Mounted at /content/gdrive\n"
          ]
        }
      ]
    },
    {
      "cell_type": "code",
      "source": [
        "import zipfile\n",
        "zip_ref = zipfile.ZipFile('/content/gdrive/MyDrive/dataset/emmortion.zip', 'r')\n",
        "zip_ref.extractall('/content')\n",
        "zip_ref.close()"
      ],
      "metadata": {
        "id": "fNsSFcuxPHt7"
      },
      "execution_count": null,
      "outputs": []
    },
    {
      "cell_type": "code",
      "source": [
        "# Define constants\n",
        "img_width = 48\n",
        "img_height = 48\n",
        "batch_size = 128\n",
        "epochs = 50\n",
        "train_data_dir = '/content/images/images/train'\n",
        "test_data_dir = '/content/images/images/validation'"
      ],
      "metadata": {
        "id": "fJFvPWqcPids"
      },
      "execution_count": null,
      "outputs": []
    },
    {
      "cell_type": "code",
      "source": [
        "\n",
        "# Load VGG16 pre-trained model\n",
        "vgg16 = tf.keras.applications.vgg16.VGG16(weights='imagenet', include_top=False, input_shape=(img_width, img_height, 3))\n",
        "for layer in vgg16.layers:\n",
        "    layer.trainable = False"
      ],
      "metadata": {
        "id": "whWnHlB5Pig2"
      },
      "execution_count": null,
      "outputs": []
    },
    {
      "cell_type": "code",
      "source": [
        "# Add custom classification layers\n",
        "x = vgg16.output\n",
        "x = GlobalAveragePooling2D()(x)\n",
        "x = Dense(256, activation='relu')(x)\n",
        "x = Dropout(0.5)(x)\n",
        "x = Dense(7, activation='softmax')(x)"
      ],
      "metadata": {
        "id": "TXHzy-4gPikG"
      },
      "execution_count": null,
      "outputs": []
    },
    {
      "cell_type": "code",
      "source": [
        "\n",
        "# Create model\n",
        "model = Model(inputs=vgg16.input, outputs=x)"
      ],
      "metadata": {
        "id": "nfn5K2CIP5o7"
      },
      "execution_count": null,
      "outputs": []
    },
    {
      "cell_type": "code",
      "source": [
        "# Compile model\n",
        "model.compile(optimizer=Adam(lr=0.0001),\n",
        "              loss='categorical_crossentropy',\n",
        "              metrics=['accuracy'])\n"
      ],
      "metadata": {
        "colab": {
          "base_uri": "https://localhost:8080/"
        },
        "id": "xU-pVvnUP5sA",
        "outputId": "f8ca2732-8757-4d1d-ef25-b6952de43e54"
      },
      "execution_count": null,
      "outputs": [
        {
          "output_type": "stream",
          "name": "stderr",
          "text": [
            "WARNING:absl:`lr` is deprecated, please use `learning_rate` instead, or use the legacy optimizer, e.g.,tf.keras.optimizers.legacy.Adam.\n"
          ]
        }
      ]
    },
    {
      "cell_type": "code",
      "source": [
        "# Define data generators\n",
        "train_datagen = ImageDataGenerator(rescale=1./255,\n",
        "                                   shear_range=0.2,\n",
        "                                   zoom_range=0.2,\n",
        "                                   horizontal_flip=True)\n",
        " \n",
        "test_datagen = ImageDataGenerator(rescale=1./255)\n",
        "\n",
        "train_generator = train_datagen.flow_from_directory(train_data_dir,\n",
        "                                                    target_size=(img_width, img_height),\n",
        "                                                    batch_size=batch_size,\n",
        "                                                    color_mode='rgb',\n",
        "                                                    class_mode='categorical')\n",
        " \n",
        "test_generator = test_datagen.flow_from_directory(test_data_dir,\n",
        "                                                  target_size=(img_width, img_height),\n",
        "                                                  batch_size=batch_size,\n",
        "                                                  color_mode='rgb',\n",
        "                                                  class_mode='categorical')"
      ],
      "metadata": {
        "colab": {
          "base_uri": "https://localhost:8080/"
        },
        "id": "u_ThPygJP5yQ",
        "outputId": "e06d1dfa-aca9-4767-bebf-30d424377629"
      },
      "execution_count": null,
      "outputs": [
        {
          "output_type": "stream",
          "name": "stdout",
          "text": [
            "Found 28821 images belonging to 7 classes.\n",
            "Found 7066 images belonging to 7 classes.\n"
          ]
        }
      ]
    },
    {
      "cell_type": "code",
      "source": [],
      "metadata": {
        "id": "bDjT66RXQAyw"
      },
      "execution_count": null,
      "outputs": []
    },
    {
      "cell_type": "code",
      "source": [],
      "metadata": {
        "id": "A99_N9WeQA7q"
      },
      "execution_count": null,
      "outputs": []
    },
    {
      "cell_type": "code",
      "source": [
        "\n",
        "\n",
        "# Train model\n",
        "history = model.fit(train_generator,\n",
        "                    epochs=epochs,\n",
        "                    validation_data=test_generator)\n",
        "\n",
        "# Plot training history\n",
        "plt.plot(history.history['accuracy'])\n",
        "plt.plot(history.history['val_accuracy'])\n",
        "plt.title('Model Accuracy')\n",
        "plt.ylabel('Accuracy')\n",
        "plt.xlabel('Epoch')\n",
        "plt.legend(['train', 'test'], loc='upper left')\n",
        "plt.show()\n",
        "\n",
        "plt.plot(history.history['loss'])\n",
        "plt.plot(history.history['val_loss'])\n",
        "plt.title('Model Loss')\n",
        "plt.ylabel('Loss')\n",
        "plt.xlabel('Epoch')\n",
        "plt.legend(['train', 'test'], loc='upper left')\n",
        "plt.show()\n"
      ],
      "metadata": {
        "colab": {
          "base_uri": "https://localhost:8080/",
          "height": 1000
        },
        "id": "0W7P3LpzPHxT",
        "outputId": "f400858e-866d-493e-a437-3a594f6a3318"
      },
      "execution_count": null,
      "outputs": [
        {
          "output_type": "stream",
          "name": "stdout",
          "text": [
            "Epoch 1/50\n",
            "226/226 [==============================] - 52s 190ms/step - loss: 1.7310 - accuracy: 0.3095 - val_loss: 1.6040 - val_accuracy: 0.3862\n",
            "Epoch 2/50\n",
            "226/226 [==============================] - 40s 178ms/step - loss: 1.6474 - accuracy: 0.3498 - val_loss: 1.5677 - val_accuracy: 0.3944\n",
            "Epoch 3/50\n",
            "226/226 [==============================] - 41s 183ms/step - loss: 1.6258 - accuracy: 0.3593 - val_loss: 1.5613 - val_accuracy: 0.3980\n",
            "Epoch 4/50\n",
            "226/226 [==============================] - 42s 187ms/step - loss: 1.6089 - accuracy: 0.3704 - val_loss: 1.5661 - val_accuracy: 0.4029\n",
            "Epoch 5/50\n",
            "226/226 [==============================] - 42s 185ms/step - loss: 1.5987 - accuracy: 0.3703 - val_loss: 1.5325 - val_accuracy: 0.4145\n",
            "Epoch 6/50\n",
            "226/226 [==============================] - 42s 184ms/step - loss: 1.5867 - accuracy: 0.3793 - val_loss: 1.5385 - val_accuracy: 0.4052\n",
            "Epoch 7/50\n",
            "226/226 [==============================] - 42s 184ms/step - loss: 1.5831 - accuracy: 0.3820 - val_loss: 1.5314 - val_accuracy: 0.4104\n",
            "Epoch 8/50\n",
            "226/226 [==============================] - 40s 176ms/step - loss: 1.5766 - accuracy: 0.3856 - val_loss: 1.5184 - val_accuracy: 0.4210\n",
            "Epoch 9/50\n",
            "226/226 [==============================] - 42s 185ms/step - loss: 1.5615 - accuracy: 0.3916 - val_loss: 1.5115 - val_accuracy: 0.4210\n",
            "Epoch 10/50\n",
            "226/226 [==============================] - 42s 184ms/step - loss: 1.5574 - accuracy: 0.3946 - val_loss: 1.5105 - val_accuracy: 0.4226\n",
            "Epoch 11/50\n",
            "226/226 [==============================] - 42s 185ms/step - loss: 1.5538 - accuracy: 0.3987 - val_loss: 1.5120 - val_accuracy: 0.4236\n",
            "Epoch 12/50\n",
            "226/226 [==============================] - 40s 178ms/step - loss: 1.5445 - accuracy: 0.3995 - val_loss: 1.5093 - val_accuracy: 0.4224\n",
            "Epoch 13/50\n",
            "226/226 [==============================] - 42s 185ms/step - loss: 1.5468 - accuracy: 0.3951 - val_loss: 1.5021 - val_accuracy: 0.4209\n",
            "Epoch 14/50\n",
            "226/226 [==============================] - 41s 182ms/step - loss: 1.5406 - accuracy: 0.4027 - val_loss: 1.4934 - val_accuracy: 0.4301\n",
            "Epoch 15/50\n",
            "226/226 [==============================] - 41s 181ms/step - loss: 1.5359 - accuracy: 0.4050 - val_loss: 1.4922 - val_accuracy: 0.4325\n",
            "Epoch 16/50\n",
            "226/226 [==============================] - 41s 182ms/step - loss: 1.5319 - accuracy: 0.4084 - val_loss: 1.4927 - val_accuracy: 0.4311\n",
            "Epoch 17/50\n",
            "226/226 [==============================] - 41s 181ms/step - loss: 1.5324 - accuracy: 0.4056 - val_loss: 1.4871 - val_accuracy: 0.4271\n",
            "Epoch 18/50\n",
            "226/226 [==============================] - 41s 182ms/step - loss: 1.5254 - accuracy: 0.4079 - val_loss: 1.4958 - val_accuracy: 0.4273\n",
            "Epoch 19/50\n",
            "226/226 [==============================] - 43s 189ms/step - loss: 1.5156 - accuracy: 0.4147 - val_loss: 1.4812 - val_accuracy: 0.4365\n",
            "Epoch 20/50\n",
            "226/226 [==============================] - 42s 184ms/step - loss: 1.5159 - accuracy: 0.4122 - val_loss: 1.4824 - val_accuracy: 0.4346\n",
            "Epoch 21/50\n",
            "226/226 [==============================] - 42s 186ms/step - loss: 1.5115 - accuracy: 0.4126 - val_loss: 1.4843 - val_accuracy: 0.4331\n",
            "Epoch 22/50\n",
            "226/226 [==============================] - 42s 186ms/step - loss: 1.5093 - accuracy: 0.4140 - val_loss: 1.4814 - val_accuracy: 0.4367\n",
            "Epoch 23/50\n",
            "226/226 [==============================] - 42s 187ms/step - loss: 1.5070 - accuracy: 0.4154 - val_loss: 1.4797 - val_accuracy: 0.4331\n",
            "Epoch 24/50\n",
            "226/226 [==============================] - 42s 187ms/step - loss: 1.4999 - accuracy: 0.4204 - val_loss: 1.4751 - val_accuracy: 0.4362\n",
            "Epoch 25/50\n",
            "226/226 [==============================] - 43s 190ms/step - loss: 1.5015 - accuracy: 0.4153 - val_loss: 1.4798 - val_accuracy: 0.4372\n",
            "Epoch 26/50\n",
            "226/226 [==============================] - 42s 185ms/step - loss: 1.5008 - accuracy: 0.4170 - val_loss: 1.4687 - val_accuracy: 0.4414\n",
            "Epoch 27/50\n",
            "226/226 [==============================] - 40s 176ms/step - loss: 1.4943 - accuracy: 0.4252 - val_loss: 1.4706 - val_accuracy: 0.4376\n",
            "Epoch 28/50\n",
            "226/226 [==============================] - 40s 176ms/step - loss: 1.4875 - accuracy: 0.4245 - val_loss: 1.4693 - val_accuracy: 0.4407\n",
            "Epoch 29/50\n",
            "226/226 [==============================] - 40s 178ms/step - loss: 1.4885 - accuracy: 0.4217 - val_loss: 1.4750 - val_accuracy: 0.4321\n",
            "Epoch 30/50\n",
            "226/226 [==============================] - 41s 181ms/step - loss: 1.4874 - accuracy: 0.4225 - val_loss: 1.4604 - val_accuracy: 0.4493\n",
            "Epoch 31/50\n",
            "226/226 [==============================] - 40s 176ms/step - loss: 1.4820 - accuracy: 0.4265 - val_loss: 1.4686 - val_accuracy: 0.4389\n",
            "Epoch 32/50\n",
            "226/226 [==============================] - 39s 173ms/step - loss: 1.4767 - accuracy: 0.4307 - val_loss: 1.4583 - val_accuracy: 0.4434\n",
            "Epoch 33/50\n",
            "226/226 [==============================] - 39s 174ms/step - loss: 1.4800 - accuracy: 0.4277 - val_loss: 1.4710 - val_accuracy: 0.4396\n",
            "Epoch 34/50\n",
            "226/226 [==============================] - 39s 173ms/step - loss: 1.4744 - accuracy: 0.4280 - val_loss: 1.4603 - val_accuracy: 0.4491\n",
            "Epoch 35/50\n",
            "226/226 [==============================] - 40s 176ms/step - loss: 1.4728 - accuracy: 0.4342 - val_loss: 1.4634 - val_accuracy: 0.4438\n",
            "Epoch 36/50\n",
            "226/226 [==============================] - 40s 176ms/step - loss: 1.4679 - accuracy: 0.4326 - val_loss: 1.4559 - val_accuracy: 0.4427\n",
            "Epoch 37/50\n",
            "226/226 [==============================] - 40s 176ms/step - loss: 1.4716 - accuracy: 0.4300 - val_loss: 1.4555 - val_accuracy: 0.4441\n",
            "Epoch 38/50\n",
            "226/226 [==============================] - 39s 174ms/step - loss: 1.4618 - accuracy: 0.4361 - val_loss: 1.4780 - val_accuracy: 0.4329\n",
            "Epoch 39/50\n",
            "226/226 [==============================] - 39s 170ms/step - loss: 1.4673 - accuracy: 0.4340 - val_loss: 1.4543 - val_accuracy: 0.4458\n",
            "Epoch 40/50\n",
            "226/226 [==============================] - 40s 176ms/step - loss: 1.4662 - accuracy: 0.4302 - val_loss: 1.4598 - val_accuracy: 0.4469\n",
            "Epoch 41/50\n",
            "226/226 [==============================] - 40s 176ms/step - loss: 1.4647 - accuracy: 0.4329 - val_loss: 1.4607 - val_accuracy: 0.4413\n",
            "Epoch 42/50\n",
            "226/226 [==============================] - 40s 175ms/step - loss: 1.4650 - accuracy: 0.4342 - val_loss: 1.4568 - val_accuracy: 0.4435\n",
            "Epoch 43/50\n",
            "226/226 [==============================] - 39s 175ms/step - loss: 1.4592 - accuracy: 0.4321 - val_loss: 1.4572 - val_accuracy: 0.4441\n",
            "Epoch 44/50\n",
            "226/226 [==============================] - 38s 170ms/step - loss: 1.4520 - accuracy: 0.4383 - val_loss: 1.4500 - val_accuracy: 0.4464\n",
            "Epoch 45/50\n",
            "226/226 [==============================] - 39s 170ms/step - loss: 1.4504 - accuracy: 0.4382 - val_loss: 1.4519 - val_accuracy: 0.4444\n",
            "Epoch 46/50\n",
            "226/226 [==============================] - 38s 170ms/step - loss: 1.4470 - accuracy: 0.4391 - val_loss: 1.4502 - val_accuracy: 0.4452\n",
            "Epoch 47/50\n",
            "226/226 [==============================] - 41s 179ms/step - loss: 1.4488 - accuracy: 0.4403 - val_loss: 1.4517 - val_accuracy: 0.4491\n",
            "Epoch 48/50\n",
            "226/226 [==============================] - 41s 180ms/step - loss: 1.4459 - accuracy: 0.4410 - val_loss: 1.4499 - val_accuracy: 0.4448\n",
            "Epoch 49/50\n",
            "226/226 [==============================] - 41s 180ms/step - loss: 1.4431 - accuracy: 0.4435 - val_loss: 1.4467 - val_accuracy: 0.4498\n",
            "Epoch 50/50\n",
            "226/226 [==============================] - 40s 178ms/step - loss: 1.4442 - accuracy: 0.4412 - val_loss: 1.4557 - val_accuracy: 0.4406\n"
          ]
        },
        {
          "output_type": "display_data",
          "data": {
            "text/plain": [
              "<Figure size 432x288 with 1 Axes>"
            ],
            "image/png": "[encoded data removed]"
          },
          "metadata": {
            "needs_background": "light"
          }
        },
        {
          "output_type": "display_data",
          "data": {
            "text/plain": [
              "<Figure size 432x288 with 1 Axes>"
            ],
            "image/png": "[encoded data removed]"
          },
          "metadata": {
            "needs_background": "light"
          }
        }
      ]
    }
  ]
}