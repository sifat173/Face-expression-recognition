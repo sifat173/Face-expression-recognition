{
  "cells": [
    {
      "cell_type": "markdown",
      "metadata": {
        "id": "view-in-github",
        "colab_type": "text"
      },
      "source": [
        "<a href=\"https://colab.research.google.com/github/sifat173/Face-expression-recognition/blob/main/Face_expression_recognition.ipynb\" target=\"_parent\"><img src=\"https://colab.research.google.com/assets/colab-badge.svg\" alt=\"Open In Colab\"/></a>"
      ]
    },
    {
      "cell_type": "code",
      "execution_count": 1,
      "metadata": {
        "id": "mIfOtR-_D5BB"
      },
      "outputs": [],
      "source": [
        "# Import libraries\n",
        "import tensorflow as tf\n",
        "from tensorflow.keras.models import Sequential\n",
        "from tensorflow.keras.layers import Conv2D, MaxPooling2D, Flatten, Dense, Dropout\n",
        "from tensorflow.keras.preprocessing.image import ImageDataGenerator\n",
        "import numpy as np\n",
        "import pandas as pd\n",
        "import matplotlib.pyplot as plt\n",
        "%matplotlib inline\n"
      ]
    },
    {
      "cell_type": "code",
      "execution_count": 2,
      "metadata": {
        "colab": {
          "base_uri": "https://localhost:8080/"
        },
        "id": "Ln0abflY1FWE",
        "outputId": "64e67883-b48a-4481-f080-eed5722607a6"
      },
      "outputs": [
        {
          "output_type": "stream",
          "name": "stdout",
          "text": [
            "Mounted at /content/gdrive\n"
          ]
        }
      ],
      "source": [
        "from google.colab import drive\n",
        "drive.mount('/content/gdrive')\n"
      ]
    },
    {
      "cell_type": "code",
      "execution_count": 3,
      "metadata": {
        "id": "aRV-gd3P0886"
      },
      "outputs": [],
      "source": [
        "#!cp \"/content/gdrive/MyDrive/data.zip\" \"/content/\"\n",
        "\n"
      ]
    },
    {
      "cell_type": "code",
      "execution_count": 4,
      "metadata": {
        "id": "Xo9U6Yj15cu1"
      },
      "outputs": [],
      "source": [
        "#!unzip -q \"/content/data.zip\" -d \"/content/data\"\n",
        "\n"
      ]
    },
    {
      "cell_type": "code",
      "execution_count": 5,
      "metadata": {
        "id": "ffO9gdj8GtCt"
      },
      "outputs": [],
      "source": [
        "import zipfile\n",
        "zip_ref = zipfile.ZipFile('/content/gdrive/MyDrive/data.zip', 'r')\n",
        "zip_ref.extractall('/content')\n",
        "zip_ref.close()\n"
      ]
    },
    {
      "cell_type": "code",
      "execution_count": 6,
      "metadata": {
        "id": "v92MbuMp5c3H"
      },
      "outputs": [],
      "source": [
        "\n",
        "# Define constants\n",
        "img_width = 48\n",
        "img_height = 48\n",
        "batch_size = 128\n",
        "epochs = 100\n",
        "train_data_dir = '/content/images/images/train'\n",
        "test_data_dir = '/content/images/images/validation'\n"
      ]
    },
    {
      "cell_type": "code",
      "execution_count": 7,
      "metadata": {
        "colab": {
          "base_uri": "https://localhost:8080/"
        },
        "id": "IIcN9HdR_EPV",
        "outputId": "191984d2-2f5d-4700-fd67-1a8bdd781b2e"
      },
      "outputs": [
        {
          "output_type": "stream",
          "name": "stdout",
          "text": [
            "Found 28821 images belonging to 7 classes.\n",
            "Found 7066 images belonging to 7 classes.\n"
          ]
        }
      ],
      "source": [
        "# Define data generators\n",
        "train_datagen = ImageDataGenerator(rescale=1./255,\n",
        "                                   shear_range=0.2,\n",
        "                                   zoom_range=0.2,\n",
        "                                   horizontal_flip=True)\n",
        " \n",
        "test_datagen = ImageDataGenerator(rescale=1./255)\n",
        "\n",
        "train_generator = train_datagen.flow_from_directory(train_data_dir,\n",
        "                                                    target_size=(img_width, img_height),\n",
        "                                                    batch_size=batch_size,\n",
        "                                                    color_mode='grayscale',\n",
        "                                                    class_mode='categorical')\n",
        " \n",
        "test_generator = test_datagen.flow_from_directory(test_data_dir,\n",
        "                                                  target_size=(img_width, img_height),\n",
        "                                                  batch_size=batch_size,\n",
        "                                                  color_mode='grayscale',\n",
        "                                                  class_mode='categorical')\n",
        "\n"
      ]
    },
    {
      "cell_type": "code",
      "execution_count": 8,
      "metadata": {
        "colab": {
          "base_uri": "https://localhost:8080/",
          "height": 1000
        },
        "id": "niAluHHl0_Ms",
        "outputId": "23555d0f-94ec-4d86-9fee-934dd1c82e27"
      },
      "outputs": [
        {
          "output_type": "stream",
          "name": "stdout",
          "text": [
            "Epoch 1/100\n",
            "226/226 [==============================] - 50s 167ms/step - loss: 1.7614 - accuracy: 0.2771 - val_loss: 1.6046 - val_accuracy: 0.3807\n",
            "Epoch 2/100\n",
            "226/226 [==============================] - 31s 137ms/step - loss: 1.5694 - accuracy: 0.3875 - val_loss: 1.4176 - val_accuracy: 0.4549\n",
            "Epoch 3/100\n",
            "226/226 [==============================] - 31s 136ms/step - loss: 1.4364 - accuracy: 0.4483 - val_loss: 1.3009 - val_accuracy: 0.5017\n",
            "Epoch 4/100\n",
            "226/226 [==============================] - 31s 139ms/step - loss: 1.3556 - accuracy: 0.4805 - val_loss: 1.2371 - val_accuracy: 0.5242\n",
            "Epoch 5/100\n",
            "226/226 [==============================] - 31s 136ms/step - loss: 1.3014 - accuracy: 0.5016 - val_loss: 1.1880 - val_accuracy: 0.5487\n",
            "Epoch 6/100\n",
            "226/226 [==============================] - 29s 130ms/step - loss: 1.2561 - accuracy: 0.5218 - val_loss: 1.1728 - val_accuracy: 0.5526\n",
            "Epoch 7/100\n",
            "226/226 [==============================] - 31s 137ms/step - loss: 1.2359 - accuracy: 0.5289 - val_loss: 1.1421 - val_accuracy: 0.5616\n",
            "Epoch 8/100\n",
            "226/226 [==============================] - 32s 140ms/step - loss: 1.2070 - accuracy: 0.5379 - val_loss: 1.1344 - val_accuracy: 0.5681\n",
            "Epoch 9/100\n",
            "226/226 [==============================] - 31s 139ms/step - loss: 1.1933 - accuracy: 0.5450 - val_loss: 1.0893 - val_accuracy: 0.5896\n",
            "Epoch 10/100\n",
            "226/226 [==============================] - 32s 141ms/step - loss: 1.1692 - accuracy: 0.5559 - val_loss: 1.0908 - val_accuracy: 0.5899\n",
            "Epoch 11/100\n",
            "226/226 [==============================] - 32s 142ms/step - loss: 1.1551 - accuracy: 0.5620 - val_loss: 1.0806 - val_accuracy: 0.5927\n",
            "Epoch 12/100\n",
            "226/226 [==============================] - 32s 140ms/step - loss: 1.1352 - accuracy: 0.5688 - val_loss: 1.0780 - val_accuracy: 0.5948\n",
            "Epoch 13/100\n",
            "226/226 [==============================] - 31s 137ms/step - loss: 1.1257 - accuracy: 0.5732 - val_loss: 1.0639 - val_accuracy: 0.5985\n",
            "Epoch 14/100\n",
            "226/226 [==============================] - 31s 138ms/step - loss: 1.1172 - accuracy: 0.5745 - val_loss: 1.0572 - val_accuracy: 0.6057\n",
            "Epoch 15/100\n",
            "226/226 [==============================] - 31s 136ms/step - loss: 1.1084 - accuracy: 0.5827 - val_loss: 1.0402 - val_accuracy: 0.6102\n",
            "Epoch 16/100\n",
            "226/226 [==============================] - 31s 136ms/step - loss: 1.0895 - accuracy: 0.5844 - val_loss: 1.0708 - val_accuracy: 0.5981\n",
            "Epoch 17/100\n",
            "226/226 [==============================] - 29s 130ms/step - loss: 1.0833 - accuracy: 0.5889 - val_loss: 1.0268 - val_accuracy: 0.6200\n",
            "Epoch 18/100\n",
            "226/226 [==============================] - 31s 138ms/step - loss: 1.0791 - accuracy: 0.5913 - val_loss: 1.0375 - val_accuracy: 0.6175\n",
            "Epoch 19/100\n",
            "226/226 [==============================] - 31s 137ms/step - loss: 1.0652 - accuracy: 0.5939 - val_loss: 1.0318 - val_accuracy: 0.6240\n",
            "Epoch 20/100\n",
            "226/226 [==============================] - 31s 136ms/step - loss: 1.0605 - accuracy: 0.5996 - val_loss: 1.0290 - val_accuracy: 0.6159\n",
            "Epoch 21/100\n",
            "226/226 [==============================] - 31s 136ms/step - loss: 1.0476 - accuracy: 0.6015 - val_loss: 1.0175 - val_accuracy: 0.6241\n",
            "Epoch 22/100\n",
            "226/226 [==============================] - 31s 138ms/step - loss: 1.0453 - accuracy: 0.6043 - val_loss: 1.0110 - val_accuracy: 0.6187\n",
            "Epoch 23/100\n",
            "226/226 [==============================] - 32s 141ms/step - loss: 1.0314 - accuracy: 0.6073 - val_loss: 1.0316 - val_accuracy: 0.6135\n",
            "Epoch 24/100\n",
            "226/226 [==============================] - 31s 137ms/step - loss: 1.0282 - accuracy: 0.6110 - val_loss: 1.0062 - val_accuracy: 0.6278\n",
            "Epoch 25/100\n",
            "226/226 [==============================] - 31s 138ms/step - loss: 1.0171 - accuracy: 0.6121 - val_loss: 1.0045 - val_accuracy: 0.6268\n",
            "Epoch 26/100\n",
            "226/226 [==============================] - 31s 137ms/step - loss: 1.0115 - accuracy: 0.6173 - val_loss: 0.9994 - val_accuracy: 0.6333\n",
            "Epoch 27/100\n",
            "226/226 [==============================] - 32s 141ms/step - loss: 1.0104 - accuracy: 0.6170 - val_loss: 0.9998 - val_accuracy: 0.6278\n",
            "Epoch 28/100\n",
            "226/226 [==============================] - 29s 130ms/step - loss: 1.0008 - accuracy: 0.6219 - val_loss: 1.0012 - val_accuracy: 0.6349\n",
            "Epoch 29/100\n",
            "226/226 [==============================] - 31s 137ms/step - loss: 0.9837 - accuracy: 0.6292 - val_loss: 1.0061 - val_accuracy: 0.6255\n",
            "Epoch 30/100\n",
            "226/226 [==============================] - 31s 136ms/step - loss: 0.9933 - accuracy: 0.6239 - val_loss: 0.9900 - val_accuracy: 0.6364\n",
            "Epoch 31/100\n",
            "226/226 [==============================] - 33s 148ms/step - loss: 0.9799 - accuracy: 0.6307 - val_loss: 0.9936 - val_accuracy: 0.6318\n",
            "Epoch 32/100\n",
            "226/226 [==============================] - 30s 133ms/step - loss: 0.9806 - accuracy: 0.6297 - val_loss: 0.9940 - val_accuracy: 0.6393\n",
            "Epoch 33/100\n",
            "226/226 [==============================] - 30s 134ms/step - loss: 0.9746 - accuracy: 0.6322 - val_loss: 0.9950 - val_accuracy: 0.6350\n",
            "Epoch 34/100\n",
            "226/226 [==============================] - 31s 137ms/step - loss: 0.9734 - accuracy: 0.6332 - val_loss: 0.9918 - val_accuracy: 0.6369\n",
            "Epoch 35/100\n",
            "226/226 [==============================] - 30s 134ms/step - loss: 0.9634 - accuracy: 0.6385 - val_loss: 0.9897 - val_accuracy: 0.6332\n",
            "Epoch 36/100\n",
            "226/226 [==============================] - 30s 134ms/step - loss: 0.9635 - accuracy: 0.6384 - val_loss: 0.9834 - val_accuracy: 0.6378\n",
            "Epoch 37/100\n",
            "226/226 [==============================] - 30s 134ms/step - loss: 0.9571 - accuracy: 0.6387 - val_loss: 0.9902 - val_accuracy: 0.6394\n",
            "Epoch 38/100\n",
            "226/226 [==============================] - 30s 135ms/step - loss: 0.9501 - accuracy: 0.6435 - val_loss: 0.9903 - val_accuracy: 0.6386\n",
            "Epoch 39/100\n",
            "226/226 [==============================] - 29s 128ms/step - loss: 0.9498 - accuracy: 0.6449 - val_loss: 0.9837 - val_accuracy: 0.6435\n",
            "Epoch 40/100\n",
            "226/226 [==============================] - 30s 134ms/step - loss: 0.9451 - accuracy: 0.6449 - val_loss: 0.9756 - val_accuracy: 0.6402\n",
            "Epoch 41/100\n",
            "226/226 [==============================] - 30s 134ms/step - loss: 0.9438 - accuracy: 0.6454 - val_loss: 0.9743 - val_accuracy: 0.6424\n",
            "Epoch 42/100\n",
            "226/226 [==============================] - 30s 134ms/step - loss: 0.9345 - accuracy: 0.6480 - val_loss: 0.9778 - val_accuracy: 0.6432\n",
            "Epoch 43/100\n",
            "226/226 [==============================] - 29s 127ms/step - loss: 0.9196 - accuracy: 0.6556 - val_loss: 0.9751 - val_accuracy: 0.6452\n",
            "Epoch 44/100\n",
            "226/226 [==============================] - 30s 135ms/step - loss: 0.9174 - accuracy: 0.6557 - val_loss: 0.9873 - val_accuracy: 0.6369\n",
            "Epoch 45/100\n",
            "226/226 [==============================] - 33s 145ms/step - loss: 0.9197 - accuracy: 0.6534 - val_loss: 0.9789 - val_accuracy: 0.6400\n",
            "Epoch 46/100\n",
            "226/226 [==============================] - 31s 135ms/step - loss: 0.9155 - accuracy: 0.6589 - val_loss: 0.9882 - val_accuracy: 0.6386\n",
            "Epoch 47/100\n",
            "226/226 [==============================] - 31s 136ms/step - loss: 0.9053 - accuracy: 0.6607 - val_loss: 0.9837 - val_accuracy: 0.6418\n",
            "Epoch 48/100\n",
            "226/226 [==============================] - 32s 142ms/step - loss: 0.9124 - accuracy: 0.6551 - val_loss: 0.9758 - val_accuracy: 0.6453\n",
            "Epoch 49/100\n",
            "226/226 [==============================] - 31s 135ms/step - loss: 0.9124 - accuracy: 0.6568 - val_loss: 0.9974 - val_accuracy: 0.6449\n",
            "Epoch 50/100\n",
            "226/226 [==============================] - 32s 142ms/step - loss: 0.8978 - accuracy: 0.6652 - val_loss: 0.9813 - val_accuracy: 0.6404\n",
            "Epoch 51/100\n",
            "226/226 [==============================] - 31s 137ms/step - loss: 0.8979 - accuracy: 0.6641 - val_loss: 0.9819 - val_accuracy: 0.6415\n",
            "Epoch 52/100\n",
            "226/226 [==============================] - 31s 137ms/step - loss: 0.8892 - accuracy: 0.6662 - val_loss: 0.9920 - val_accuracy: 0.6441\n",
            "Epoch 53/100\n",
            "226/226 [==============================] - 31s 135ms/step - loss: 0.8874 - accuracy: 0.6664 - val_loss: 0.9820 - val_accuracy: 0.6410\n",
            "Epoch 54/100\n",
            "226/226 [==============================] - 31s 139ms/step - loss: 0.8935 - accuracy: 0.6668 - val_loss: 0.9755 - val_accuracy: 0.6459\n",
            "Epoch 55/100\n",
            "226/226 [==============================] - 29s 129ms/step - loss: 0.8904 - accuracy: 0.6656 - val_loss: 0.9637 - val_accuracy: 0.6499\n",
            "Epoch 56/100\n",
            "226/226 [==============================] - 31s 138ms/step - loss: 0.8786 - accuracy: 0.6693 - val_loss: 0.9686 - val_accuracy: 0.6476\n",
            "Epoch 57/100\n",
            "226/226 [==============================] - 31s 137ms/step - loss: 0.8745 - accuracy: 0.6726 - val_loss: 0.9718 - val_accuracy: 0.6469\n",
            "Epoch 58/100\n",
            "226/226 [==============================] - 31s 138ms/step - loss: 0.8806 - accuracy: 0.6685 - val_loss: 0.9698 - val_accuracy: 0.6506\n",
            "Epoch 59/100\n",
            "226/226 [==============================] - 30s 132ms/step - loss: 0.8722 - accuracy: 0.6760 - val_loss: 0.9795 - val_accuracy: 0.6520\n",
            "Epoch 60/100\n",
            "226/226 [==============================] - 33s 148ms/step - loss: 0.8696 - accuracy: 0.6716 - val_loss: 0.9883 - val_accuracy: 0.6468\n",
            "Epoch 61/100\n",
            "226/226 [==============================] - 31s 138ms/step - loss: 0.8725 - accuracy: 0.6739 - val_loss: 0.9704 - val_accuracy: 0.6517\n",
            "Epoch 62/100\n",
            "226/226 [==============================] - 31s 136ms/step - loss: 0.8560 - accuracy: 0.6818 - val_loss: 0.9826 - val_accuracy: 0.6490\n",
            "Epoch 63/100\n",
            "226/226 [==============================] - 29s 128ms/step - loss: 0.8552 - accuracy: 0.6782 - val_loss: 0.9797 - val_accuracy: 0.6516\n",
            "Epoch 64/100\n",
            "226/226 [==============================] - 31s 136ms/step - loss: 0.8552 - accuracy: 0.6785 - val_loss: 0.9814 - val_accuracy: 0.6482\n",
            "Epoch 65/100\n",
            "226/226 [==============================] - 31s 135ms/step - loss: 0.8474 - accuracy: 0.6793 - val_loss: 0.9754 - val_accuracy: 0.6506\n",
            "Epoch 66/100\n",
            "226/226 [==============================] - 31s 138ms/step - loss: 0.8513 - accuracy: 0.6823 - val_loss: 0.9797 - val_accuracy: 0.6520\n",
            "Epoch 67/100\n",
            "226/226 [==============================] - 32s 141ms/step - loss: 0.8452 - accuracy: 0.6814 - val_loss: 0.9826 - val_accuracy: 0.6520\n",
            "Epoch 68/100\n",
            "226/226 [==============================] - 32s 140ms/step - loss: 0.8448 - accuracy: 0.6817 - val_loss: 0.9665 - val_accuracy: 0.6513\n",
            "Epoch 69/100\n",
            "226/226 [==============================] - 33s 146ms/step - loss: 0.8517 - accuracy: 0.6831 - val_loss: 0.9744 - val_accuracy: 0.6456\n",
            "Epoch 70/100\n",
            "226/226 [==============================] - 32s 139ms/step - loss: 0.8449 - accuracy: 0.6828 - val_loss: 0.9705 - val_accuracy: 0.6503\n",
            "Epoch 71/100\n",
            "226/226 [==============================] - 30s 135ms/step - loss: 0.8378 - accuracy: 0.6868 - val_loss: 0.9924 - val_accuracy: 0.6496\n",
            "Epoch 72/100\n",
            "226/226 [==============================] - 29s 129ms/step - loss: 0.8395 - accuracy: 0.6824 - val_loss: 0.9667 - val_accuracy: 0.6558\n",
            "Epoch 73/100\n",
            "226/226 [==============================] - 30s 134ms/step - loss: 0.8327 - accuracy: 0.6893 - val_loss: 0.9579 - val_accuracy: 0.6561\n",
            "Epoch 74/100\n",
            "226/226 [==============================] - 31s 136ms/step - loss: 0.8364 - accuracy: 0.6864 - val_loss: 0.9862 - val_accuracy: 0.6520\n",
            "Epoch 75/100\n",
            "226/226 [==============================] - 31s 136ms/step - loss: 0.8246 - accuracy: 0.6903 - val_loss: 0.9691 - val_accuracy: 0.6569\n",
            "Epoch 76/100\n",
            "226/226 [==============================] - 29s 127ms/step - loss: 0.8248 - accuracy: 0.6898 - val_loss: 0.9644 - val_accuracy: 0.6598\n",
            "Epoch 77/100\n",
            "226/226 [==============================] - 30s 133ms/step - loss: 0.8201 - accuracy: 0.6927 - val_loss: 0.9950 - val_accuracy: 0.6500\n",
            "Epoch 78/100\n",
            "226/226 [==============================] - 30s 134ms/step - loss: 0.8162 - accuracy: 0.6947 - val_loss: 0.9858 - val_accuracy: 0.6470\n",
            "Epoch 79/100\n",
            "226/226 [==============================] - 30s 133ms/step - loss: 0.8182 - accuracy: 0.6937 - val_loss: 0.9679 - val_accuracy: 0.6533\n",
            "Epoch 80/100\n",
            "226/226 [==============================] - 29s 128ms/step - loss: 0.8101 - accuracy: 0.6955 - val_loss: 0.9897 - val_accuracy: 0.6541\n",
            "Epoch 81/100\n",
            "226/226 [==============================] - 30s 135ms/step - loss: 0.8195 - accuracy: 0.6927 - val_loss: 0.9666 - val_accuracy: 0.6562\n",
            "Epoch 82/100\n",
            "226/226 [==============================] - 30s 135ms/step - loss: 0.8151 - accuracy: 0.6980 - val_loss: 0.9753 - val_accuracy: 0.6550\n",
            "Epoch 83/100\n",
            "226/226 [==============================] - 32s 143ms/step - loss: 0.8104 - accuracy: 0.6968 - val_loss: 0.9705 - val_accuracy: 0.6476\n",
            "Epoch 84/100\n",
            "226/226 [==============================] - 30s 133ms/step - loss: 0.8088 - accuracy: 0.6963 - val_loss: 1.0047 - val_accuracy: 0.6497\n",
            "Epoch 85/100\n",
            "226/226 [==============================] - 30s 133ms/step - loss: 0.8008 - accuracy: 0.7026 - val_loss: 0.9818 - val_accuracy: 0.6517\n",
            "Epoch 86/100\n",
            "226/226 [==============================] - 30s 133ms/step - loss: 0.7968 - accuracy: 0.7011 - val_loss: 0.9788 - val_accuracy: 0.6504\n",
            "Epoch 87/100\n",
            "226/226 [==============================] - 30s 133ms/step - loss: 0.8029 - accuracy: 0.7004 - val_loss: 0.9851 - val_accuracy: 0.6511\n",
            "Epoch 88/100\n",
            "226/226 [==============================] - 30s 133ms/step - loss: 0.8076 - accuracy: 0.6961 - val_loss: 0.9610 - val_accuracy: 0.6568\n",
            "Epoch 89/100\n",
            "226/226 [==============================] - 30s 133ms/step - loss: 0.7900 - accuracy: 0.7046 - val_loss: 0.9742 - val_accuracy: 0.6517\n",
            "Epoch 90/100\n",
            "226/226 [==============================] - 29s 127ms/step - loss: 0.7973 - accuracy: 0.7005 - val_loss: 0.9916 - val_accuracy: 0.6524\n",
            "Epoch 91/100\n",
            "226/226 [==============================] - 30s 134ms/step - loss: 0.7955 - accuracy: 0.7031 - val_loss: 0.9833 - val_accuracy: 0.6527\n",
            "Epoch 92/100\n",
            "226/226 [==============================] - 30s 134ms/step - loss: 0.7908 - accuracy: 0.7016 - val_loss: 0.9805 - val_accuracy: 0.6517\n",
            "Epoch 93/100\n",
            "226/226 [==============================] - 29s 127ms/step - loss: 0.7902 - accuracy: 0.7042 - val_loss: 0.9784 - val_accuracy: 0.6520\n",
            "Epoch 94/100\n",
            "226/226 [==============================] - 30s 135ms/step - loss: 0.7935 - accuracy: 0.7047 - val_loss: 0.9771 - val_accuracy: 0.6541\n",
            "Epoch 95/100\n",
            "226/226 [==============================] - 31s 135ms/step - loss: 0.7877 - accuracy: 0.7045 - val_loss: 0.9775 - val_accuracy: 0.6497\n",
            "Epoch 96/100\n",
            "226/226 [==============================] - 31s 135ms/step - loss: 0.7869 - accuracy: 0.7066 - val_loss: 0.9928 - val_accuracy: 0.6500\n",
            "Epoch 97/100\n",
            "226/226 [==============================] - 29s 128ms/step - loss: 0.7780 - accuracy: 0.7075 - val_loss: 0.9981 - val_accuracy: 0.6521\n",
            "Epoch 98/100\n",
            "226/226 [==============================] - 30s 134ms/step - loss: 0.7833 - accuracy: 0.7061 - val_loss: 0.9768 - val_accuracy: 0.6582\n",
            "Epoch 99/100\n",
            "226/226 [==============================] - 30s 135ms/step - loss: 0.7825 - accuracy: 0.7073 - val_loss: 0.9913 - val_accuracy: 0.6506\n",
            "Epoch 100/100\n",
            "226/226 [==============================] - 30s 133ms/step - loss: 0.7813 - accuracy: 0.7058 - val_loss: 0.9813 - val_accuracy: 0.6562\n"
          ]
        },
        {
          "output_type": "display_data",
          "data": {
            "text/plain": [
              "<Figure size 432x288 with 1 Axes>"
            ],
            "image/png": "[encoded data removed]"
          },
          "metadata": {
            "needs_background": "light"
          }
        },
        {
          "output_type": "display_data",
          "data": {
            "text/plain": [
              "<Figure size 432x288 with 1 Axes>"
            ],
            "image/png": "[encoded data removed]"
          },
          "metadata": {
            "needs_background": "light"
          }
        }
      ],
      "source": [
        "\n",
        "\n",
        "\n",
        "# Define model\n",
        "model = Sequential()\n",
        "model.add(Conv2D(32, (3, 3), activation='relu', input_shape=(img_width, img_height, 1)))\n",
        "model.add(Conv2D(64, (3, 3), activation='relu'))\n",
        "model.add(MaxPooling2D(pool_size=(2, 2)))\n",
        "model.add(Dropout(0.25))\n",
        "model.add(Conv2D(128, (3, 3), activation='relu'))\n",
        "model.add(MaxPooling2D(pool_size=(2, 2)))\n",
        "model.add(Conv2D(128, (3, 3), activation='relu'))\n",
        "model.add(MaxPooling2D(pool_size=(2, 2)))\n",
        "model.add(Dropout(0.25))\n",
        "model.add(Flatten())\n",
        "model.add(Dense(1024, activation='relu'))\n",
        "model.add(Dropout(0.5))\n",
        "model.add(Dense(7, activation='softmax'))\n",
        "\n",
        "# Compile model\n",
        "model.compile(loss='categorical_crossentropy',\n",
        "              optimizer='adam',\n",
        "              metrics=['accuracy'])\n",
        "\n",
        "# Train model\n",
        "history = model.fit(train_generator,\n",
        "                    epochs=epochs,\n",
        "                    validation_data=test_generator)\n",
        "\n",
        "# Plot training history\n",
        "plt.plot(history.history['accuracy'])\n",
        "plt.plot(history.history['val_accuracy'])\n",
        "plt.title('Model Accuracy')\n",
        "plt.ylabel('Accuracy')\n",
        "plt.xlabel('Epoch')\n",
        "plt.legend(['train', 'test'], loc='upper left')\n",
        "plt.show()\n",
        "\n",
        "plt.plot(history.history['loss'])\n",
        "plt.plot(history.history['val_loss'])\n",
        "plt.title('Model Loss')\n",
        "plt.ylabel('Loss')\n",
        "plt.xlabel('Epoch')\n",
        "plt.legend(['train', 'test'], loc='upper left')\n",
        "plt.show()\n"
      ]
    },
    {
      "cell_type": "code",
      "source": [
        "model.save('m_path')\n",
        "loaded_model = tf.keras.models.load_model('m_path')\n"
      ],
      "metadata": {
        "colab": {
          "base_uri": "https://localhost:8080/"
        },
        "id": "ZKi_3-RPDoa-",
        "outputId": "bc437b86-f34b-4afe-9aee-ad7e6959171d"
      },
      "execution_count": 9,
      "outputs": [
        {
          "output_type": "stream",
          "name": "stderr",
          "text": [
            "WARNING:absl:Found untraced functions such as _jit_compiled_convolution_op, _jit_compiled_convolution_op, _jit_compiled_convolution_op, _jit_compiled_convolution_op while saving (showing 4 of 4). These functions will not be directly callable after loading.\n"
          ]
        }
      ]
    },
    {
      "cell_type": "code",
      "source": [
        "!pip install opencv-python\n"
      ],
      "metadata": {
        "id": "_sGp1_HlFlSI",
        "colab": {
          "base_uri": "https://localhost:8080/"
        },
        "outputId": "84d8a199-4282-43e7-bc59-8e0a0ddbc06c"
      },
      "execution_count": 10,
      "outputs": [
        {
          "output_type": "stream",
          "name": "stdout",
          "text": [
            "Looking in indexes: https://pypi.org/simple, https://us-python.pkg.dev/colab-wheels/public/simple/\n",
            "Requirement already satisfied: opencv-python in /usr/local/lib/python3.9/dist-packages (4.6.0.66)\n",
            "Requirement already satisfied: numpy>=1.14.5 in /usr/local/lib/python3.9/dist-packages (from opencv-python) (1.22.4)\n"
          ]
        }
      ]
    },
    {
      "cell_type": "code",
      "source": [
        "#loaded_model = tf.keras.models.load_model('m_path')\n"
      ],
      "metadata": {
        "id": "a1a07HnpD6J2"
      },
      "execution_count": 11,
      "outputs": []
    },
    {
      "cell_type": "code",
      "source": [
        "#pip install opencv-python-headless"
      ],
      "metadata": {
        "id": "5HgeelK3MaQV"
      },
      "execution_count": 12,
      "outputs": []
    },
    {
      "cell_type": "code",
      "source": [],
      "metadata": {
        "id": "7rpixzMMMaUV"
      },
      "execution_count": 12,
      "outputs": []
    },
    {
      "cell_type": "code",
      "source": [
        "#sudo adduser SIFAT video\n"
      ],
      "metadata": {
        "id": "UhrWNClIKGxh"
      },
      "execution_count": 13,
      "outputs": []
    },
    {
      "cell_type": "code",
      "source": [
        "import cv2\n",
        "\n",
        "# Create a VideoCapture object\n",
        "cap = cv2.VideoCapture(0)\n",
        "\n",
        "# Check if the VideoCapture object is opened successfully\n",
        "if not cap.isOpened():\n",
        "    print(\"Cannot open camera\")\n",
        "else:\n",
        "    print(\"Camera is connected and functioning properly\")\n",
        "\n",
        "# Release the VideoCapture object\n",
        "cap.release()\n"
      ],
      "metadata": {
        "colab": {
          "base_uri": "https://localhost:8080/"
        },
        "id": "n0wiLBLiNrIf",
        "outputId": "bddaea1f-6746-4f88-e133-19513e4467e6"
      },
      "execution_count": 14,
      "outputs": [
        {
          "output_type": "stream",
          "name": "stdout",
          "text": [
            "Cannot open camera\n"
          ]
        }
      ]
    },
    {
      "cell_type": "code",
      "source": [
        "import cv2\n",
        "import numpy as np\n",
        "import tensorflow as tf\n",
        "\n",
        "# Define constants\n",
        "IMG_SIZE = 48\n",
        "EMOTIONS = [\"Angry\", \"Disgust\", \"Fear\", \"Happy\", \"Sad\", \"Surprise\", \"Neutral\"]\n",
        "\n",
        "# Load the model\n",
        "loaded_model = tf.keras.models.load_model(\"m_path\")\n",
        "\n",
        "# Open a connection to the default camera\n",
        "cap = cv2.VideoCapture(0)\n",
        "\n",
        "# Continuously capture frames from the camera and make predictions\n",
        "while True:\n",
        "    # Read a frame from the camera\n",
        "    ret, frame = cap.read()\n",
        "\n",
        "    # Convert the frame to grayscale\n",
        "    gray = cv2.cvtColor(frame, cv2.COLOR_BGR2GRAY)\n",
        "\n",
        "    # Resize the image to the required input shape of the model\n",
        "    resized = cv2.resize(gray, (IMG_SIZE, IMG_SIZE))\n",
        "\n",
        "    # Normalize the pixel values to be between 0 and 1\n",
        "    normalized = resized / 255.0\n",
        "\n",
        "    # Reshape the image to match the input shape of the model\n",
        "    reshaped = np.reshape(normalized, (1, IMG_SIZE, IMG_SIZE, 1))\n",
        "\n",
        "    # Make a prediction using the loaded model\n",
        "    predictions = loaded_model.predict(reshaped)\n",
        "\n",
        "    # Get the index of the predicted emotion\n",
        "    index = np.argmax(predictions)\n",
        "\n",
        "    # Get the corresponding emotion label\n",
        "    emotion = EMOTIONS[index]\n",
        "\n",
        "    # Put the predicted emotion label on the frame\n",
        "    cv2.putText(frame, emotion, (10, 30), cv2.FONT_HERSHEY_SIMPLEX, 1, (0, 255, 0), 2)\n",
        "\n",
        "    # Display the resulting frame\n",
        "    cv2.imshow('frame', frame)\n",
        "\n",
        "    # Wait for the 'q' key to be pressed to quit the loop\n",
        "    if cv2.waitKey(1) & 0xFF == ord('q'):\n",
        "        break\n",
        "\n",
        "# Release the capture and close all windows\n",
        "cap.release()\n",
        "cv2.destroyAllWindows()\n"
      ],
      "metadata": {
        "id": "MNZUcBhqHJ_S",
        "colab": {
          "base_uri": "https://localhost:8080/",
          "height": 235
        },
        "outputId": "82e6dd58-b84c-4c6a-ed8c-fadec2df15d0"
      },
      "execution_count": 15,
      "outputs": [
        {
          "output_type": "error",
          "ename": "error",
          "evalue": "ignored",
          "traceback": [
            "\u001b[0;31m---------------------------------------------------------------------------\u001b[0m",
            "\u001b[0;31merror\u001b[0m                                     Traceback (most recent call last)",
            "\u001b[0;32m<ipython-input-15-3010a19dd045>\u001b[0m in \u001b[0;36m<module>\u001b[0;34m\u001b[0m\n\u001b[1;32m     19\u001b[0m \u001b[0;34m\u001b[0m\u001b[0m\n\u001b[1;32m     20\u001b[0m     \u001b[0;31m# Convert the frame to grayscale\u001b[0m\u001b[0;34m\u001b[0m\u001b[0;34m\u001b[0m\u001b[0m\n\u001b[0;32m---> 21\u001b[0;31m     \u001b[0mgray\u001b[0m \u001b[0;34m=\u001b[0m \u001b[0mcv2\u001b[0m\u001b[0;34m.\u001b[0m\u001b[0mcvtColor\u001b[0m\u001b[0;34m(\u001b[0m\u001b[0mframe\u001b[0m\u001b[0;34m,\u001b[0m \u001b[0mcv2\u001b[0m\u001b[0;34m.\u001b[0m\u001b[0mCOLOR_BGR2GRAY\u001b[0m\u001b[0;34m)\u001b[0m\u001b[0;34m\u001b[0m\u001b[0;34m\u001b[0m\u001b[0m\n\u001b[0m\u001b[1;32m     22\u001b[0m \u001b[0;34m\u001b[0m\u001b[0m\n\u001b[1;32m     23\u001b[0m     \u001b[0;31m# Resize the image to the required input shape of the model\u001b[0m\u001b[0;34m\u001b[0m\u001b[0;34m\u001b[0m\u001b[0m\n",
            "\u001b[0;31merror\u001b[0m: OpenCV(4.6.0) /io/opencv/modules/imgproc/src/color.cpp:182: error: (-215:Assertion failed) !_src.empty() in function 'cvtColor'\n"
          ]
        }
      ]
    },
    {
      "cell_type": "code",
      "execution_count": null,
      "metadata": {
        "id": "Sq3sWQHzqM5x"
      },
      "outputs": [],
      "source": [
        "import cv2\n",
        "\n",
        "cv2.namedWindow('Emotion Detection',cv2.WINDOW_NORMAL)\n",
        "# Load the trained model\n",
        "model = tf.keras.models.load_model(frame)\n",
        "\n",
        "\n",
        "# Create a dictionary to map the predicted labels to emotions\n",
        "emotions = {0: 'Angry', 1: 'Disgust', 2: 'Fear', 3: 'Happy', 4: 'Neutral', 5: 'Sad', 6: 'Surprise'}\n",
        "\n",
        "# Start capturing video from webcam\n",
        "cap = cv2.VideoCapture(0)\n",
        "#cap = cv2.VideoCapture(\"droidcam_video\")\n",
        "\n",
        "\n",
        "while True:\n",
        "    # Read a frame from the webcam\n",
        "    ret, frame = cap.read()\n",
        "    \n",
        "\n",
        "\n",
        "    # Convert the image to grayscale\n",
        "    gray = cv2.cvtColor(frame, cv2.COLOR_BGR2GRAY)\n",
        "\n",
        "    # Resize the image to match the input size of the model\n",
        "    img = cv2.resize(gray, (48, 48))\n",
        "\n",
        "    # Rescale the pixel values to between 0 and 1\n",
        "    img = img / 255.0\n",
        "\n",
        "    # Add a batch dimension to the image\n",
        "    img = np.expand_dims(img, axis=0)\n",
        "\n",
        "    # Make a prediction using the model\n",
        "    predictions = model.predict(img)\n",
        "\n",
        "    # Get the predicted label\n",
        "    label = np.argmax(predictions)\n",
        "\n",
        "    # Get the corresponding emotion from the dictionary\n",
        "    emotion = emotions[label]\n",
        "\n",
        "    # Draw the predicted emotion on the frame\n",
        "    cv2.putText(frame, emotion, (10, 50), cv2.FONT_HERSHEY_SIMPLEX, 1, (0, 255, 0), 2)\n",
        "\n",
        "    # Show the frame\n",
        "    cv2.imshow('Emotion Detection', frame)\n",
        "\n",
        "    # Wait for a key press\n",
        "    if cv2.waitKey(1) & 0xFF == ord('q'):\n",
        "        break\n",
        "\n",
        "# Release the resources\n",
        "cap.release()\n",
        "cv2.destroyAllWindows()\n"
      ]
    },
    {
      "cell_type": "code",
      "execution_count": null,
      "metadata": {
        "id": "4HD4XbWp053D"
      },
      "outputs": [],
      "source": []
    },
    {
      "cell_type": "code",
      "execution_count": null,
      "metadata": {
        "id": "ehTkq2nb065V"
      },
      "outputs": [],
      "source": []
    },
    {
      "cell_type": "code",
      "execution_count": null,
      "metadata": {
        "id": "VZ10pJF104qD"
      },
      "outputs": [],
      "source": []
    }
  ],
  "metadata": {
    "accelerator": "GPU",
    "colab": {
      "toc_visible": true,
      "provenance": [],
      "authorship_tag": "ABX9TyN8gwFOHEQQmVzpGlhhrPMK",
      "include_colab_link": true
    },
    "gpuClass": "standard",
    "kernelspec": {
      "display_name": "Python 3",
      "name": "python3"
    },
    "language_info": {
      "name": "python"
    }
  },
  "nbformat": 4,
  "nbformat_minor": 0
}