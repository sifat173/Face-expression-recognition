{
  "nbformat": 4,
  "nbformat_minor": 0,
  "metadata": {
    "colab": {
      "provenance": [],
      "toc_visible": true,
      "authorship_tag": "ABX9TyMgH3m0csoZ/SpSKWliycNZ",
      "include_colab_link": true
    },
    "kernelspec": {
      "name": "python3",
      "display_name": "Python 3"
    },
    "language_info": {
      "name": "python"
    },
    "accelerator": "GPU",
    "gpuClass": "standard"
  },
  "cells": [
    {
      "cell_type": "markdown",
      "metadata": {
        "id": "view-in-github",
        "colab_type": "text"
      },
      "source": [
        "<a href=\"https://colab.research.google.com/github/sifat173/Face-expression-recognition/blob/main/Face_expression_recognition.ipynb\" target=\"_parent\"><img src=\"https://colab.research.google.com/assets/colab-badge.svg\" alt=\"Open In Colab\"/></a>"
      ]
    },
    {
      "cell_type": "code",
      "execution_count": null,
      "metadata": {
        "id": "mIfOtR-_D5BB"
      },
      "outputs": [],
      "source": [
        "# Import libraries\n",
        "import tensorflow as tf\n",
        "from tensorflow.keras.models import Sequential\n",
        "from tensorflow.keras.layers import Conv2D, MaxPooling2D, Flatten, Dense, Dropout\n",
        "from tensorflow.keras.preprocessing.image import ImageDataGenerator\n",
        "import numpy as np\n",
        "import pandas as pd\n",
        "import matplotlib.pyplot as plt\n",
        "%matplotlib inline"
      ]
    },
    {
      "cell_type": "code",
      "source": [],
      "metadata": {
        "id": "h1bYpsoZ1FST"
      },
      "execution_count": null,
      "outputs": []
    },
    {
      "cell_type": "code",
      "source": [
        "from google.colab import drive\n",
        "drive.mount('/content/gdrive')"
      ],
      "metadata": {
        "colab": {
          "base_uri": "https://localhost:8080/"
        },
        "id": "Ln0abflY1FWE",
        "outputId": "0734ff55-5c86-473d-8965-3d4edebce83f"
      },
      "execution_count": null,
      "outputs": [
        {
          "output_type": "stream",
          "name": "stdout",
          "text": [
            "Drive already mounted at /content/gdrive; to attempt to forcibly remount, call drive.mount(\"/content/gdrive\", force_remount=True).\n"
          ]
        }
      ]
    },
    {
      "cell_type": "code",
      "source": [
        "#!cp \"/content/gdrive/MyDrive/data.zip\" \"/content/\"\n",
        "\n"
      ],
      "metadata": {
        "id": "aRV-gd3P0886"
      },
      "execution_count": null,
      "outputs": []
    },
    {
      "cell_type": "code",
      "source": [
        "#!unzip -q \"/content/data.zip\" -d \"/content/data\"\n",
        "\n"
      ],
      "metadata": {
        "id": "Xo9U6Yj15cu1"
      },
      "execution_count": null,
      "outputs": []
    },
    {
      "cell_type": "code",
      "source": [
        "import zipfile\n",
        "zip_ref = zipfile.ZipFile('/content/gdrive/MyDrive/data.zip', 'r')\n",
        "zip_ref.extractall('/content')\n",
        "zip_ref.close()"
      ],
      "metadata": {
        "id": "ffO9gdj8GtCt"
      },
      "execution_count": null,
      "outputs": []
    },
    {
      "cell_type": "code",
      "source": [
        "\n",
        "# Define constants\n",
        "img_width = 48\n",
        "img_height = 48\n",
        "batch_size = 128\n",
        "epochs = 50\n",
        "train_data_dir = '/content/images/images/train'\n",
        "test_data_dir = '/content/images/images/validation'\n"
      ],
      "metadata": {
        "id": "v92MbuMp5c3H"
      },
      "execution_count": null,
      "outputs": []
    },
    {
      "cell_type": "code",
      "source": [
        "# Define data generators\n",
        "train_datagen = ImageDataGenerator(rescale=1./255,\n",
        "                                   shear_range=0.2,\n",
        "                                   zoom_range=0.2,\n",
        "                                   horizontal_flip=True)\n",
        " \n",
        "test_datagen = ImageDataGenerator(rescale=1./255)\n",
        "\n",
        "train_generator = train_datagen.flow_from_directory(train_data_dir,\n",
        "                                                    target_size=(img_width, img_height),\n",
        "                                                    batch_size=batch_size,\n",
        "                                                    color_mode='grayscale',\n",
        "                                                    class_mode='categorical')\n",
        " \n",
        "test_generator = test_datagen.flow_from_directory(test_data_dir,\n",
        "                                                  target_size=(img_width, img_height),\n",
        "                                                  batch_size=batch_size,\n",
        "                                                  color_mode='grayscale',\n",
        "                                                  class_mode='categorical')"
      ],
      "metadata": {
        "colab": {
          "base_uri": "https://localhost:8080/"
        },
        "id": "IIcN9HdR_EPV",
        "outputId": "f2de92df-071a-4153-a3b1-9206eb26089d"
      },
      "execution_count": null,
      "outputs": [
        {
          "output_type": "stream",
          "name": "stdout",
          "text": [
            "Found 28821 images belonging to 7 classes.\n",
            "Found 7066 images belonging to 7 classes.\n"
          ]
        }
      ]
    },
    {
      "cell_type": "code",
      "source": [
        "\n",
        "\n",
        "\n",
        "# Define data generators\n",
        "train_datagen = ImageDataGenerator(rescale=1./255,\n",
        "                                   shear_range=0.2,\n",
        "                                   zoom_range=0.2,\n",
        "                                   horizontal_flip=True)\n",
        " \n",
        "test_datagen = ImageDataGenerator(rescale=1./255)\n",
        "\n",
        "train_generator = train_datagen.flow_from_directory(train_data_dir,\n",
        "                                                    target_size=(img_width, img_height),\n",
        "                                                    batch_size=batch_size,\n",
        "                                                    color_mode='grayscale',\n",
        "                                                    class_mode='categorical')\n",
        " \n",
        "test_generator = test_datagen.flow_from_directory(test_data_dir,\n",
        "                                                  target_size=(img_width, img_height),\n",
        "                                                  batch_size=batch_size,\n",
        "                                                  color_mode='grayscale',\n",
        "                                                  class_mode='categorical')\n",
        "\n",
        "# Define model\n",
        "model = Sequential()\n",
        "model.add(Conv2D(32, (3, 3), activation='relu', input_shape=(img_width, img_height, 1)))\n",
        "model.add(Conv2D(64, (3, 3), activation='relu'))\n",
        "model.add(MaxPooling2D(pool_size=(2, 2)))\n",
        "model.add(Dropout(0.25))\n",
        "model.add(Conv2D(128, (3, 3), activation='relu'))\n",
        "model.add(MaxPooling2D(pool_size=(2, 2)))\n",
        "model.add(Conv2D(128, (3, 3), activation='relu'))\n",
        "model.add(MaxPooling2D(pool_size=(2, 2)))\n",
        "model.add(Dropout(0.25))\n",
        "model.add(Flatten())\n",
        "model.add(Dense(1024, activation='relu'))\n",
        "model.add(Dropout(0.5))\n",
        "model.add(Dense(7, activation='softmax'))\n",
        "\n",
        "# Compile model\n",
        "model.compile(loss='categorical_crossentropy',\n",
        "              optimizer='adam',\n",
        "              metrics=['accuracy'])\n",
        "\n",
        "# Train model\n",
        "history = model.fit(train_generator,\n",
        "                    epochs=epochs,\n",
        "                    validation_data=test_generator)\n",
        "\n",
        "# Plot training history\n",
        "plt.plot(history.history['accuracy'])\n",
        "plt.plot(history.history['val_accuracy'])\n",
        "plt.title('Model Accuracy')\n",
        "plt.ylabel('Accuracy')\n",
        "plt.xlabel('Epoch')\n",
        "plt.legend(['train', 'test'], loc='upper left')\n",
        "plt.show()\n",
        "\n",
        "plt.plot(history.history['loss'])\n",
        "plt.plot(history.history['val_loss'])\n",
        "plt.title('Model Loss')\n",
        "plt.ylabel('Loss')\n",
        "plt.xlabel('Epoch')\n",
        "plt.legend(['train', 'test'], loc='upper left')\n",
        "plt.show()\n"
      ],
      "metadata": {
        "colab": {
          "base_uri": "https://localhost:8080/",
          "height": 1000
        },
        "id": "niAluHHl0_Ms",
        "outputId": "5bf9f5ae-f351-4c93-d87f-4b3650fcbd00"
      },
      "execution_count": null,
      "outputs": [
        {
          "output_type": "stream",
          "name": "stdout",
          "text": [
            "Found 28821 images belonging to 7 classes.\n",
            "Found 7066 images belonging to 7 classes.\n",
            "Epoch 1/50\n",
            "226/226 [==============================] - 29s 118ms/step - loss: 1.7956 - accuracy: 0.2577 - val_loss: 1.6705 - val_accuracy: 0.3467\n",
            "Epoch 2/50\n",
            "226/226 [==============================] - 27s 118ms/step - loss: 1.5958 - accuracy: 0.3719 - val_loss: 1.4111 - val_accuracy: 0.4526\n",
            "Epoch 3/50\n",
            "226/226 [==============================] - 27s 118ms/step - loss: 1.4297 - accuracy: 0.4495 - val_loss: 1.2790 - val_accuracy: 0.5109\n",
            "Epoch 4/50\n",
            "226/226 [==============================] - 26s 117ms/step - loss: 1.3473 - accuracy: 0.4849 - val_loss: 1.2243 - val_accuracy: 0.5361\n",
            "Epoch 5/50\n",
            "226/226 [==============================] - 26s 116ms/step - loss: 1.2946 - accuracy: 0.5048 - val_loss: 1.1728 - val_accuracy: 0.5492\n",
            "Epoch 6/50\n",
            "226/226 [==============================] - 28s 124ms/step - loss: 1.2588 - accuracy: 0.5202 - val_loss: 1.1397 - val_accuracy: 0.5637\n",
            "Epoch 7/50\n",
            "226/226 [==============================] - 28s 124ms/step - loss: 1.2265 - accuracy: 0.5312 - val_loss: 1.1309 - val_accuracy: 0.5785\n",
            "Epoch 8/50\n",
            "226/226 [==============================] - 26s 115ms/step - loss: 1.1987 - accuracy: 0.5456 - val_loss: 1.1274 - val_accuracy: 0.5791\n",
            "Epoch 9/50\n",
            "226/226 [==============================] - 25s 110ms/step - loss: 1.1759 - accuracy: 0.5525 - val_loss: 1.0930 - val_accuracy: 0.5894\n",
            "Epoch 10/50\n",
            "226/226 [==============================] - 26s 116ms/step - loss: 1.1633 - accuracy: 0.5584 - val_loss: 1.0914 - val_accuracy: 0.5869\n",
            "Epoch 11/50\n",
            "226/226 [==============================] - 27s 118ms/step - loss: 1.1386 - accuracy: 0.5682 - val_loss: 1.0816 - val_accuracy: 0.5927\n",
            "Epoch 12/50\n",
            "226/226 [==============================] - 26s 117ms/step - loss: 1.1342 - accuracy: 0.5686 - val_loss: 1.0644 - val_accuracy: 0.5969\n",
            "Epoch 13/50\n",
            "226/226 [==============================] - 26s 116ms/step - loss: 1.1195 - accuracy: 0.5766 - val_loss: 1.0546 - val_accuracy: 0.6003\n",
            "Epoch 14/50\n",
            "226/226 [==============================] - 26s 114ms/step - loss: 1.1028 - accuracy: 0.5828 - val_loss: 1.0480 - val_accuracy: 0.6003\n",
            "Epoch 15/50\n",
            "226/226 [==============================] - 25s 112ms/step - loss: 1.0948 - accuracy: 0.5856 - val_loss: 1.0426 - val_accuracy: 0.6080\n",
            "Epoch 16/50\n",
            "226/226 [==============================] - 29s 130ms/step - loss: 1.0877 - accuracy: 0.5861 - val_loss: 1.0452 - val_accuracy: 0.6060\n",
            "Epoch 17/50\n",
            "226/226 [==============================] - 26s 115ms/step - loss: 1.0805 - accuracy: 0.5905 - val_loss: 1.0341 - val_accuracy: 0.6144\n",
            "Epoch 18/50\n",
            "226/226 [==============================] - 28s 125ms/step - loss: 1.0665 - accuracy: 0.5957 - val_loss: 1.0286 - val_accuracy: 0.6163\n",
            "Epoch 19/50\n",
            "226/226 [==============================] - 29s 127ms/step - loss: 1.0580 - accuracy: 0.6017 - val_loss: 1.0126 - val_accuracy: 0.6260\n",
            "Epoch 20/50\n",
            "226/226 [==============================] - 28s 126ms/step - loss: 1.0449 - accuracy: 0.6049 - val_loss: 1.0166 - val_accuracy: 0.6209\n",
            "Epoch 21/50\n",
            "226/226 [==============================] - 27s 117ms/step - loss: 1.0503 - accuracy: 0.6031 - val_loss: 1.0018 - val_accuracy: 0.6302\n",
            "Epoch 22/50\n",
            "226/226 [==============================] - 26s 114ms/step - loss: 1.0340 - accuracy: 0.6093 - val_loss: 1.0243 - val_accuracy: 0.6180\n",
            "Epoch 23/50\n",
            "226/226 [==============================] - 26s 115ms/step - loss: 1.0282 - accuracy: 0.6116 - val_loss: 1.0130 - val_accuracy: 0.6241\n",
            "Epoch 24/50\n",
            "226/226 [==============================] - 27s 119ms/step - loss: 1.0297 - accuracy: 0.6104 - val_loss: 1.0083 - val_accuracy: 0.6267\n",
            "Epoch 25/50\n",
            "226/226 [==============================] - 27s 118ms/step - loss: 1.0198 - accuracy: 0.6137 - val_loss: 0.9945 - val_accuracy: 0.6318\n",
            "Epoch 26/50\n",
            "226/226 [==============================] - 27s 117ms/step - loss: 1.0127 - accuracy: 0.6165 - val_loss: 0.9991 - val_accuracy: 0.6291\n",
            "Epoch 27/50\n",
            "226/226 [==============================] - 27s 119ms/step - loss: 0.9968 - accuracy: 0.6233 - val_loss: 0.9897 - val_accuracy: 0.6374\n",
            "Epoch 28/50\n",
            "226/226 [==============================] - 27s 118ms/step - loss: 1.0023 - accuracy: 0.6194 - val_loss: 0.9882 - val_accuracy: 0.6374\n",
            "Epoch 29/50\n",
            "226/226 [==============================] - 27s 118ms/step - loss: 0.9935 - accuracy: 0.6254 - val_loss: 1.0013 - val_accuracy: 0.6330\n",
            "Epoch 30/50\n",
            "226/226 [==============================] - 28s 125ms/step - loss: 0.9843 - accuracy: 0.6294 - val_loss: 0.9864 - val_accuracy: 0.6363\n",
            "Epoch 31/50\n",
            "226/226 [==============================] - 26s 117ms/step - loss: 0.9783 - accuracy: 0.6300 - val_loss: 0.9886 - val_accuracy: 0.6374\n",
            "Epoch 32/50\n",
            "226/226 [==============================] - 26s 114ms/step - loss: 0.9747 - accuracy: 0.6338 - val_loss: 0.9877 - val_accuracy: 0.6339\n",
            "Epoch 33/50\n",
            "226/226 [==============================] - 28s 123ms/step - loss: 0.9774 - accuracy: 0.6331 - val_loss: 0.9854 - val_accuracy: 0.6394\n",
            "Epoch 34/50\n",
            "226/226 [==============================] - 26s 116ms/step - loss: 0.9692 - accuracy: 0.6364 - val_loss: 0.9819 - val_accuracy: 0.6428\n",
            "Epoch 35/50\n",
            "226/226 [==============================] - 26s 116ms/step - loss: 0.9565 - accuracy: 0.6391 - val_loss: 0.9820 - val_accuracy: 0.6422\n",
            "Epoch 36/50\n",
            "226/226 [==============================] - 27s 119ms/step - loss: 0.9546 - accuracy: 0.6409 - val_loss: 0.9820 - val_accuracy: 0.6435\n",
            "Epoch 37/50\n",
            "226/226 [==============================] - 26s 117ms/step - loss: 0.9529 - accuracy: 0.6434 - val_loss: 0.9729 - val_accuracy: 0.6511\n",
            "Epoch 38/50\n",
            "226/226 [==============================] - 27s 117ms/step - loss: 0.9491 - accuracy: 0.6431 - val_loss: 0.9744 - val_accuracy: 0.6465\n",
            "Epoch 39/50\n",
            "226/226 [==============================] - 28s 125ms/step - loss: 0.9450 - accuracy: 0.6435 - val_loss: 0.9796 - val_accuracy: 0.6442\n",
            "Epoch 40/50\n",
            "226/226 [==============================] - 27s 119ms/step - loss: 0.9491 - accuracy: 0.6432 - val_loss: 0.9782 - val_accuracy: 0.6451\n",
            "Epoch 41/50\n",
            "226/226 [==============================] - 26s 115ms/step - loss: 0.9397 - accuracy: 0.6441 - val_loss: 0.9780 - val_accuracy: 0.6449\n",
            "Epoch 42/50\n",
            "226/226 [==============================] - 26s 113ms/step - loss: 0.9276 - accuracy: 0.6483 - val_loss: 0.9789 - val_accuracy: 0.6462\n",
            "Epoch 43/50\n",
            "226/226 [==============================] - 26s 117ms/step - loss: 0.9280 - accuracy: 0.6500 - val_loss: 0.9840 - val_accuracy: 0.6470\n",
            "Epoch 44/50\n",
            "226/226 [==============================] - 27s 117ms/step - loss: 0.9311 - accuracy: 0.6498 - val_loss: 0.9787 - val_accuracy: 0.6404\n",
            "Epoch 45/50\n",
            "226/226 [==============================] - 27s 118ms/step - loss: 0.9271 - accuracy: 0.6513 - val_loss: 0.9698 - val_accuracy: 0.6475\n",
            "Epoch 46/50\n",
            "226/226 [==============================] - 27s 118ms/step - loss: 0.9183 - accuracy: 0.6553 - val_loss: 0.9749 - val_accuracy: 0.6473\n",
            "Epoch 47/50\n",
            "226/226 [==============================] - 26s 117ms/step - loss: 0.9179 - accuracy: 0.6558 - val_loss: 0.9819 - val_accuracy: 0.6419\n",
            "Epoch 48/50\n",
            "226/226 [==============================] - 28s 124ms/step - loss: 0.9084 - accuracy: 0.6554 - val_loss: 0.9714 - val_accuracy: 0.6497\n",
            "Epoch 49/50\n",
            "226/226 [==============================] - 28s 125ms/step - loss: 0.9175 - accuracy: 0.6524 - val_loss: 0.9849 - val_accuracy: 0.6398\n",
            "Epoch 50/50\n",
            "226/226 [==============================] - 27s 118ms/step - loss: 0.9112 - accuracy: 0.6541 - val_loss: 0.9696 - val_accuracy: 0.6506\n"
          ]
        },
        {
          "output_type": "display_data",
          "data": {
            "text/plain": [
              "<Figure size 432x288 with 1 Axes>"
            ],
            "image/png": "[encoded data removed]"
          },
          "metadata": {
            "needs_background": "light"
          }
        },
        {
          "output_type": "display_data",
          "data": {
            "text/plain": [
              "<Figure size 432x288 with 1 Axes>"
            ],
            "image/png": "[encoded data removed]"
          },
          "metadata": {
            "needs_background": "light"
          }
        }
      ]
    },
    {
      "cell_type": "code",
      "source": [],
      "metadata": {
        "id": "4HD4XbWp053D"
      },
      "execution_count": null,
      "outputs": []
    },
    {
      "cell_type": "code",
      "source": [],
      "metadata": {
        "id": "ehTkq2nb065V"
      },
      "execution_count": null,
      "outputs": []
    },
    {
      "cell_type": "code",
      "source": [],
      "metadata": {
        "id": "VZ10pJF104qD"
      },
      "execution_count": null,
      "outputs": []
    }
  ]
}